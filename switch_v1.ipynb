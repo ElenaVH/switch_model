{
  "nbformat": 4,
  "nbformat_minor": 0,
  "metadata": {
    "colab": {
      "provenance": [],
      "authorship_tag": "ABX9TyMiiMW8g/4ZWWDXrIlLjW1T",
      "include_colab_link": true
    },
    "kernelspec": {
      "name": "python3",
      "display_name": "Python 3"
    },
    "language_info": {
      "name": "python"
    }
  },
  "cells": [
    {
      "cell_type": "markdown",
      "metadata": {
        "id": "view-in-github",
        "colab_type": "text"
      },
      "source": [
        "<a href=\"https://colab.research.google.com/github/ElenaVH/switch_model/blob/main/switch_v1.ipynb\" target=\"_parent\"><img src=\"https://colab.research.google.com/assets/colab-badge.svg\" alt=\"Open In Colab\"/></a>"
      ]
    },
    {
      "cell_type": "code",
      "execution_count": null,
      "metadata": {
        "colab": {
          "base_uri": "https://localhost:8080/"
        },
        "id": "ykF4ZY-KKIVp",
        "outputId": "7c1f5770-b038-4f84-f4b3-b08de8beae20"
      },
      "outputs": [
        {
          "output_type": "stream",
          "name": "stdout",
          "text": [
            "Cloning into 'switch'...\n",
            "remote: Enumerating objects: 20546, done.\u001b[K\n",
            "remote: Counting objects: 100% (4497/4497), done.\u001b[K\n",
            "remote: Compressing objects: 100% (372/372), done.\u001b[K\n",
            "remote: Total 20546 (delta 4284), reused 4129 (delta 4125), pack-reused 16049\u001b[K\n",
            "Receiving objects: 100% (20546/20546), 32.82 MiB | 33.78 MiB/s, done.\n",
            "Resolving deltas: 100% (13999/13999), done.\n"
          ]
        }
      ],
      "source": [
        "!git clone https://github.com/switch-model/switch.git\n",
        "#!git clone https://github.com/ElenaVH/switch_model.git"
      ]
    },
    {
      "cell_type": "code",
      "source": [
        "!git config --global user.name \"Elena\"\n",
        "!git config --global user.email elena.villalobos17@gmail.com\n",
        "#!git config --global core.editor \"code --wait\"\n",
        "#!git config --global -e\n",
        "!git config --global core.autocrlf true\n",
        "%cd /content/switch\n",
        "!git init\n"
      ],
      "metadata": {
        "colab": {
          "base_uri": "https://localhost:8080/"
        },
        "id": "lXnGEsTSWBKG",
        "outputId": "c489a29c-0a4f-4eac-e5d0-de2441a92863"
      },
      "execution_count": null,
      "outputs": [
        {
          "output_type": "stream",
          "name": "stdout",
          "text": [
            "/content/switch\n",
            "Reinitialized existing Git repository in /content/switch/.git/\n"
          ]
        }
      ]
    },
    {
      "cell_type": "code",
      "source": [],
      "metadata": {
        "colab": {
          "base_uri": "https://localhost:8080/"
        },
        "id": "fwt4YsjIYaCH",
        "outputId": "20952118-4353-4e35-acd8-b5b5fed288e3"
      },
      "execution_count": null,
      "outputs": [
        {
          "output_type": "stream",
          "name": "stdout",
          "text": [
            "On branch master\n",
            "Your branch is up to date with 'origin/master'.\n",
            "\n",
            "Changes to be committed:\n",
            "  (use \"git restore --staged <file>...\" to unstage)\n",
            "\t\u001b[32mmodified:   switch_model/balancing/demand_response/simple.py\u001b[m\n",
            "\n"
          ]
        }
      ]
    },
    {
      "cell_type": "markdown",
      "source": [],
      "metadata": {
        "id": "ZA5owUJpMXrU"
      }
    },
    {
      "cell_type": "code",
      "source": [
        "!git status"
      ],
      "metadata": {
        "colab": {
          "base_uri": "https://localhost:8080/"
        },
        "id": "rEsuuWavbRXn",
        "outputId": "23e583b3-79af-46c9-fcba-78f29a430cc5"
      },
      "execution_count": null,
      "outputs": [
        {
          "output_type": "stream",
          "name": "stdout",
          "text": [
            "On branch master\n",
            "Your branch is up to date with 'origin/master'.\n",
            "\n",
            "Changes to be committed:\n",
            "  (use \"git restore --staged <file>...\" to unstage)\n",
            "\t\u001b[32mmodified:   switch_model/balancing/demand_response/simple.py\u001b[m\n",
            "\n"
          ]
        }
      ]
    },
    {
      "cell_type": "code",
      "source": [
        "!git add /content/switch"
      ],
      "metadata": {
        "id": "UG-avzgYcFz_"
      },
      "execution_count": null,
      "outputs": []
    },
    {
      "cell_type": "code",
      "source": [
        "!git status"
      ],
      "metadata": {
        "colab": {
          "base_uri": "https://localhost:8080/"
        },
        "id": "UH-9BghCcYhY",
        "outputId": "6efb2f12-481f-466d-c356-af026858a97e"
      },
      "execution_count": null,
      "outputs": [
        {
          "output_type": "stream",
          "name": "stdout",
          "text": [
            "On branch master\n",
            "\n",
            "No commits yet\n",
            "\n",
            "Changes to be committed:\n",
            "  (use \"git rm --cached <file>...\" to unstage)\n",
            "\t\u001b[32mnew file:   .config/.last_opt_in_prompt.yaml\u001b[m\n",
            "\t\u001b[32mnew file:   .config/.last_survey_prompt.yaml\u001b[m\n",
            "\t\u001b[32mnew file:   .config/.last_update_check.json\u001b[m\n",
            "\t\u001b[32mnew file:   .config/active_config\u001b[m\n",
            "\t\u001b[32mnew file:   .config/config_sentinel\u001b[m\n",
            "\t\u001b[32mnew file:   .config/configurations/config_default\u001b[m\n",
            "\t\u001b[32mnew file:   .config/default_configs.db\u001b[m\n",
            "\t\u001b[32mnew file:   .config/gce\u001b[m\n",
            "\t\u001b[32mnew file:   .config/logs/2023.07.10/13.36.25.839707.log\u001b[m\n",
            "\t\u001b[32mnew file:   .config/logs/2023.07.10/13.36.50.517864.log\u001b[m\n",
            "\t\u001b[32mnew file:   .config/logs/2023.07.10/13.37.13.922152.log\u001b[m\n",
            "\t\u001b[32mnew file:   .config/logs/2023.07.10/13.37.21.489135.log\u001b[m\n",
            "\t\u001b[32mnew file:   .config/logs/2023.07.10/13.37.46.127836.log\u001b[m\n",
            "\t\u001b[32mnew file:   .config/logs/2023.07.10/13.37.46.831485.log\u001b[m\n",
            "\t\u001b[32mnew file:   sample_data/README.md\u001b[m\n",
            "\t\u001b[32mnew file:   sample_data/anscombe.json\u001b[m\n",
            "\t\u001b[32mnew file:   sample_data/california_housing_test.csv\u001b[m\n",
            "\t\u001b[32mnew file:   sample_data/california_housing_train.csv\u001b[m\n",
            "\t\u001b[32mnew file:   sample_data/mnist_test.csv\u001b[m\n",
            "\t\u001b[32mnew file:   sample_data/mnist_train_small.csv\u001b[m\n",
            "\t\u001b[32mnew file:   switch\u001b[m\n",
            "\n",
            "Changes not staged for commit:\n",
            "  (use \"git add <file>...\" to update what will be committed)\n",
            "  (use \"git restore <file>...\" to discard changes in working directory)\n",
            "  (commit or discard the untracked or modified content in submodules)\n",
            "\t\u001b[31mmodified:   switch\u001b[m (modified content)\n",
            "\n"
          ]
        }
      ]
    },
    {
      "cell_type": "code",
      "source": [
        "!pip install --upgrade --editable /content/switch\n",
        "!apt-get install -y -qq glpk-utils"
      ],
      "metadata": {
        "colab": {
          "base_uri": "https://localhost:8080/"
        },
        "id": "HHlFcyTWLL8C",
        "outputId": "f402f86c-a708-4c11-cfdd-34ee44d586d7"
      },
      "execution_count": null,
      "outputs": [
        {
          "output_type": "stream",
          "name": "stdout",
          "text": [
            "Obtaining file:///content/switch\n",
            "  Preparing metadata (setup.py) ... \u001b[?25l\u001b[?25hdone\n",
            "Collecting Pyomo<=6.4.2,>=5.7.0 (from switch-model==2.0.7)\n",
            "  Downloading Pyomo-6.4.2-cp310-cp310-manylinux_2_12_x86_64.manylinux2010_x86_64.whl (10.3 MB)\n",
            "\u001b[2K     \u001b[90m━━━━━━━━━━━━━━━━━━━━━━━━━━━━━━━━━━━━━━━━\u001b[0m \u001b[32m10.3/10.3 MB\u001b[0m \u001b[31m55.9 MB/s\u001b[0m eta \u001b[36m0:00:00\u001b[0m\n",
            "\u001b[?25hCollecting pyutilib==6.0.0 (from switch-model==2.0.7)\n",
            "  Downloading PyUtilib-6.0.0-py2.py3-none-any.whl (254 kB)\n",
            "\u001b[2K     \u001b[90m━━━━━━━━━━━━━━━━━━━━━━━━━━━━━━━━━━━━━━\u001b[0m \u001b[32m254.2/254.2 kB\u001b[0m \u001b[31m20.8 MB/s\u001b[0m eta \u001b[36m0:00:00\u001b[0m\n",
            "\u001b[?25hCollecting pint (from switch-model==2.0.7)\n",
            "  Downloading Pint-0.22-py3-none-any.whl (294 kB)\n",
            "\u001b[2K     \u001b[90m━━━━━━━━━━━━━━━━━━━━━━━━━━━━━━━━━━━━━━\u001b[0m \u001b[32m294.0/294.0 kB\u001b[0m \u001b[31m28.8 MB/s\u001b[0m eta \u001b[36m0:00:00\u001b[0m\n",
            "\u001b[?25hCollecting testfixtures (from switch-model==2.0.7)\n",
            "  Downloading testfixtures-7.1.0-py3-none-any.whl (102 kB)\n",
            "\u001b[2K     \u001b[90m━━━━━━━━━━━━━━━━━━━━━━━━━━━━━━━━━━━━━━\u001b[0m \u001b[32m102.4/102.4 kB\u001b[0m \u001b[31m11.3 MB/s\u001b[0m eta \u001b[36m0:00:00\u001b[0m\n",
            "\u001b[?25hRequirement already satisfied: pandas in /usr/local/lib/python3.10/dist-packages (from switch-model==2.0.7) (1.5.3)\n",
            "Collecting nose (from pyutilib==6.0.0->switch-model==2.0.7)\n",
            "  Downloading nose-1.3.7-py3-none-any.whl (154 kB)\n",
            "\u001b[2K     \u001b[90m━━━━━━━━━━━━━━━━━━━━━━━━━━━━━━━━━━━━━━\u001b[0m \u001b[32m154.7/154.7 kB\u001b[0m \u001b[31m15.7 MB/s\u001b[0m eta \u001b[36m0:00:00\u001b[0m\n",
            "\u001b[?25hRequirement already satisfied: six in /usr/local/lib/python3.10/dist-packages (from pyutilib==6.0.0->switch-model==2.0.7) (1.16.0)\n",
            "Collecting ply (from Pyomo<=6.4.2,>=5.7.0->switch-model==2.0.7)\n",
            "  Downloading ply-3.11-py2.py3-none-any.whl (49 kB)\n",
            "\u001b[2K     \u001b[90m━━━━━━━━━━━━━━━━━━━━━━━━━━━━━━━━━━━━━━━━\u001b[0m \u001b[32m49.6/49.6 kB\u001b[0m \u001b[31m4.7 MB/s\u001b[0m eta \u001b[36m0:00:00\u001b[0m\n",
            "\u001b[?25hRequirement already satisfied: python-dateutil>=2.8.1 in /usr/local/lib/python3.10/dist-packages (from pandas->switch-model==2.0.7) (2.8.2)\n",
            "Requirement already satisfied: pytz>=2020.1 in /usr/local/lib/python3.10/dist-packages (from pandas->switch-model==2.0.7) (2022.7.1)\n",
            "Requirement already satisfied: numpy>=1.21.0 in /usr/local/lib/python3.10/dist-packages (from pandas->switch-model==2.0.7) (1.22.4)\n",
            "Requirement already satisfied: typing-extensions in /usr/local/lib/python3.10/dist-packages (from pint->switch-model==2.0.7) (4.7.1)\n",
            "Installing collected packages: ply, nose, testfixtures, pyutilib, Pyomo, pint, switch-model\n",
            "  Running setup.py develop for switch-model\n",
            "Successfully installed Pyomo-6.4.2 nose-1.3.7 pint-0.22 ply-3.11 pyutilib-6.0.0 switch-model-2.0.7 testfixtures-7.1.0\n",
            "Selecting previously unselected package libsuitesparseconfig5:amd64.\n",
            "(Reading database ... 123105 files and directories currently installed.)\n",
            "Preparing to unpack .../libsuitesparseconfig5_1%3a5.7.1+dfsg-2_amd64.deb ...\n",
            "Unpacking libsuitesparseconfig5:amd64 (1:5.7.1+dfsg-2) ...\n",
            "Selecting previously unselected package libamd2:amd64.\n",
            "Preparing to unpack .../libamd2_1%3a5.7.1+dfsg-2_amd64.deb ...\n",
            "Unpacking libamd2:amd64 (1:5.7.1+dfsg-2) ...\n",
            "Selecting previously unselected package libcolamd2:amd64.\n",
            "Preparing to unpack .../libcolamd2_1%3a5.7.1+dfsg-2_amd64.deb ...\n",
            "Unpacking libcolamd2:amd64 (1:5.7.1+dfsg-2) ...\n",
            "Selecting previously unselected package libglpk40:amd64.\n",
            "Preparing to unpack .../libglpk40_4.65-2_amd64.deb ...\n",
            "Unpacking libglpk40:amd64 (4.65-2) ...\n",
            "Selecting previously unselected package glpk-utils.\n",
            "Preparing to unpack .../glpk-utils_4.65-2_amd64.deb ...\n",
            "Unpacking glpk-utils (4.65-2) ...\n",
            "Setting up libsuitesparseconfig5:amd64 (1:5.7.1+dfsg-2) ...\n",
            "Setting up libamd2:amd64 (1:5.7.1+dfsg-2) ...\n",
            "Setting up libcolamd2:amd64 (1:5.7.1+dfsg-2) ...\n",
            "Setting up libglpk40:amd64 (4.65-2) ...\n",
            "Setting up glpk-utils (4.65-2) ...\n",
            "Processing triggers for man-db (2.9.1-1) ...\n",
            "Processing triggers for libc-bin (2.31-0ubuntu9.9) ...\n"
          ]
        }
      ]
    },
    {
      "cell_type": "code",
      "source": [
        "!switch --version\n",
        "!pyomo --version\n",
        "!glpsol --version"
      ],
      "metadata": {
        "colab": {
          "base_uri": "https://localhost:8080/"
        },
        "id": "2O-ErBvHbCtR",
        "outputId": "0e20f7d4-e768-42df-c345-c85a63a5d7ff"
      },
      "execution_count": null,
      "outputs": [
        {
          "output_type": "stream",
          "name": "stdout",
          "text": [
            "Switch model version 2.0.7\n",
            "Pyomo 6.4.2 (CPython 3.10.12 on Linux 5.15.107+)\n",
            "GLPSOL: GLPK LP/MIP Solver, v4.65\n",
            "Copyright (C) 2000-2017 Andrew Makhorin, Department for Applied\n",
            "Informatics, Moscow Aviation Institute, Moscow, Russia. All rights\n",
            "reserved. E-mail: <mao@gnu.org>.\n",
            "\n",
            "This program has ABSOLUTELY NO WARRANTY.\n",
            "\n",
            "This program is free software; you may re-distribute it under the terms\n",
            "of the GNU General Public License version 3 or later.\n"
          ]
        }
      ]
    },
    {
      "cell_type": "code",
      "source": [
        "!switch solve --inputs-dir /content/switch_model/3_zone_tiny/inputs --verbose --stream-solver --sorted-output --outputs-dir /content/switch_model/3_zone_tiny/out"
      ],
      "metadata": {
        "id": "pSvz1L2LoSkr",
        "outputId": "6a5bdf6b-24d0-4fe9-a417-1bd16f1e2e71",
        "colab": {
          "base_uri": "https://localhost:8080/"
        }
      },
      "execution_count": null,
      "outputs": [
        {
          "output_type": "stream",
          "name": "stdout",
          "text": [
            "\n",
            "================================================================================\n",
            "Switch 2.0.7, https://switch-model.org\n",
            "================================================================================\n",
            "Arguments:\n",
            "    logs_dir='logs', log_level='info',\n",
            "    inputs_dir='/content/switch_model/3_zone_tiny/inputs', sorted_output=True,\n",
            "    solver='glpk', solver_manager='serial', tee=True,\n",
            "    outputs_dir='/content/switch_model/3_zone_tiny/out',\n",
            "    interact_color='NoColor', verbose=True\n",
            "\n",
            "Modules:\n",
            "    switch_model, switch_model.timescales, switch_model.financials,\n",
            "    switch_model.balancing.load_zones, switch_model.energy_sources.properties,\n",
            "    switch_model.generators.core.build, switch_model.generators.core.dispatch,\n",
            "    switch_model.reporting, switch_model.transmission.local_td,\n",
            "    switch_model.generators.core.no_commit,\n",
            "    switch_model.energy_sources.fuel_costs.simple,\n",
            "    switch_model.transmission.transport.build,\n",
            "    switch_model.transmission.transport.dispatch, switch_model.solve\n",
            "================================================================================\n",
            "\n",
            "Model defined in 0.10 s.\n",
            "\n",
            "Loading inputs...\n",
            "Data read in 0.02 s.\n",
            "\n",
            "Constructing model instance from data and rules...\n",
            "Constructed 1 of 214 components (0%)\n",
            "Constructed 22 of 214 components (10%)\n",
            "Constructed 43 of 214 components (20%)\n",
            "Constructed 65 of 214 components (30%)\n",
            "Constructed 86 of 214 components (40%)\n",
            "Constructed 107 of 214 components (50%)\n",
            "Constructed 129 of 214 components (60%)\n",
            "Constructed 150 of 214 components (70%)\n",
            "Constructed 172 of 214 components (80%)\n",
            "Constructed 193 of 214 components (90%)\n",
            "Constructed 214 of 214 components (100%)\n",
            "Model instance constructed in 0.11 s.\n",
            "\n",
            "Executing pre-solve functions...\n",
            "Completed pre-solve processing in 0.12 s.\n",
            "\n",
            "Solving model...\n",
            "--------------------------------- solver output --------------------------------\n",
            "GLPSOL: GLPK LP/MIP Solver, v4.65\n",
            "Parameter(s) specified in the command line:\n",
            " --write /tmp/tmp5cpr9a2c.glpk.raw --wglp /tmp/tmpfxqj2k76.glpk.glp --cpxlp\n",
            " /tmp/tmpt2m00bdl.pyomo.lp\n",
            "Reading problem data from '/tmp/tmpt2m00bdl.pyomo.lp'...\n",
            "/tmp/tmpt2m00bdl.pyomo.lp:3845: warning: lower bound of variable 'x77' redefined\n",
            "/tmp/tmpt2m00bdl.pyomo.lp:3845: warning: upper bound of variable 'x77' redefined\n",
            "588 rows, 478 columns, 1371 non-zeros\n",
            "2 integer variables, all of which are binary\n",
            "3847 lines were read\n",
            "Writing problem data to '/tmp/tmpfxqj2k76.glpk.glp'...\n",
            "3476 lines were written\n",
            "GLPK Integer Optimizer, v4.65\n",
            "588 rows, 478 columns, 1371 non-zeros\n",
            "2 integer variables, all of which are binary\n",
            "Preprocessing...\n",
            "209 rows, 206 columns, 574 non-zeros\n",
            "2 integer variables, all of which are binary\n",
            "Scaling...\n",
            " A: min|aij| =  4.970e-02  max|aij| =  1.000e+05  ratio =  2.012e+06\n",
            "GM: min|aij| =  3.162e-01  max|aij| =  3.162e+00  ratio =  1.000e+01\n",
            "EQ: min|aij| =  1.000e-01  max|aij| =  1.000e+00  ratio =  1.000e+01\n",
            "2N: min|aij| =  6.250e-02  max|aij| =  1.588e+00  ratio =  2.540e+01\n",
            "Constructing initial basis...\n",
            "Size of triangular part is 209\n",
            "Solving LP relaxation...\n",
            "GLPK Simplex Optimizer, v4.65\n",
            "209 rows, 206 columns, 574 non-zeros\n",
            "      0: obj =   8.751198794e+07 inf =   2.311e+02 (38)\n",
            "     82: obj =   1.786582415e+08 inf =   1.166e-15 (0)\n",
            "*   176: obj =   1.267504921e+08 inf =   0.000e+00 (0) 1\n",
            "OPTIMAL LP SOLUTION FOUND\n",
            "Integer optimization begins...\n",
            "Long-step dual simplex will be used\n",
            "+   176: mip =     not found yet >=              -inf        (1; 0)\n",
            "+   176: >>>>>   1.267504921e+08 >=   1.267504921e+08   0.0% (1; 0)\n",
            "+   176: mip =   1.267504921e+08 >=     tree is empty   0.0% (0; 1)\n",
            "INTEGER OPTIMAL SOLUTION FOUND\n",
            "Time used:   0.0 secs\n",
            "Memory used: 0.6 Mb (600832 bytes)\n",
            "Writing MIP solution to '/tmp/tmp5cpr9a2c.glpk.raw'...\n",
            "1075 lines were written\n",
            "---------------------------- end of solver output ----------------------------\n",
            "\n",
            "Solved model. Total time spent in solver: 0.12 s.\n",
            "\n",
            "Optimization termination condition was optimal.\n",
            "\n",
            "Saving solution file...\n",
            "Saved solution file in 0.02 s.\n",
            "\n",
            "Executing post-solve functions...\n",
            "Completed post-solve processing in 5.91 s.\n",
            "\n",
            "Switch completed successfully in 6.27 s.\n",
            "================================================================================\n",
            "\n"
          ]
        }
      ]
    }
  ]
}